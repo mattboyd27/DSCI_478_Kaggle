{
 "cells": [
  {
   "cell_type": "code",
   "execution_count": 49,
   "id": "2302a365",
   "metadata": {},
   "outputs": [
    {
     "data": {
      "application/javascript": [
       "IPython.notebook.set_autosave_interval(190000)"
      ]
     },
     "metadata": {},
     "output_type": "display_data"
    },
    {
     "name": "stdout",
     "output_type": "stream",
     "text": [
      "Autosaving every 190 seconds\n"
     ]
    }
   ],
   "source": [
    "import numpy as np\n",
    "import pandas as pd\n",
    "import matplotlib.pyplot as plt\n",
    "from PIL import Image as im\n",
    "import random\n",
    "%autosave 190"
   ]
  },
  {
   "cell_type": "code",
   "execution_count": 35,
   "id": "7a1c1d05",
   "metadata": {},
   "outputs": [],
   "source": [
    "#all library needed for CNN\n",
    "import tensorflow as tf\n",
    "from tensorflow.keras.models import Sequential, Model\n",
    "from tensorflow.keras.utils import to_categorical\n",
    "from tensorflow.keras.layers import Dense, Conv2D, MaxPool2D, Flatten, Dropout, BatchNormalization, Input, MaxPooling2D, GlobalAveragePooling2D\n",
    "from tensorflow.keras import optimizers,regularizers\n",
    "from tensorflow.keras.callbacks import ReduceLROnPlateau, EarlyStopping\n",
    "from tensorflow.keras.preprocessing.image import ImageDataGenerator, load_img, img_to_array\n",
    "from tensorflow.keras.applications import VGG19, DenseNet201, DenseNet121\n",
    "from sklearn.metrics import classification_report, confusion_matrix\n",
    "from sklearn.model_selection import train_test_split, GroupShuffleSplit"
   ]
  },
  {
   "cell_type": "code",
   "execution_count": 50,
   "id": "821ba500",
   "metadata": {},
   "outputs": [
    {
     "data": {
      "text/html": [
       "<div>\n",
       "<style scoped>\n",
       "    .dataframe tbody tr th:only-of-type {\n",
       "        vertical-align: middle;\n",
       "    }\n",
       "\n",
       "    .dataframe tbody tr th {\n",
       "        vertical-align: top;\n",
       "    }\n",
       "\n",
       "    .dataframe thead th {\n",
       "        text-align: right;\n",
       "    }\n",
       "</style>\n",
       "<table border=\"1\" class=\"dataframe\">\n",
       "  <thead>\n",
       "    <tr style=\"text-align: right;\">\n",
       "      <th></th>\n",
       "      <th>label</th>\n",
       "      <th>pixel0</th>\n",
       "      <th>pixel1</th>\n",
       "      <th>pixel2</th>\n",
       "      <th>pixel3</th>\n",
       "      <th>pixel4</th>\n",
       "      <th>pixel5</th>\n",
       "      <th>pixel6</th>\n",
       "      <th>pixel7</th>\n",
       "      <th>pixel8</th>\n",
       "      <th>...</th>\n",
       "      <th>pixel774</th>\n",
       "      <th>pixel775</th>\n",
       "      <th>pixel776</th>\n",
       "      <th>pixel777</th>\n",
       "      <th>pixel778</th>\n",
       "      <th>pixel779</th>\n",
       "      <th>pixel780</th>\n",
       "      <th>pixel781</th>\n",
       "      <th>pixel782</th>\n",
       "      <th>pixel783</th>\n",
       "    </tr>\n",
       "  </thead>\n",
       "  <tbody>\n",
       "    <tr>\n",
       "      <th>0</th>\n",
       "      <td>1</td>\n",
       "      <td>0</td>\n",
       "      <td>0</td>\n",
       "      <td>0</td>\n",
       "      <td>0</td>\n",
       "      <td>0</td>\n",
       "      <td>0</td>\n",
       "      <td>0</td>\n",
       "      <td>0</td>\n",
       "      <td>0</td>\n",
       "      <td>...</td>\n",
       "      <td>0</td>\n",
       "      <td>0</td>\n",
       "      <td>0</td>\n",
       "      <td>0</td>\n",
       "      <td>0</td>\n",
       "      <td>0</td>\n",
       "      <td>0</td>\n",
       "      <td>0</td>\n",
       "      <td>0</td>\n",
       "      <td>0</td>\n",
       "    </tr>\n",
       "    <tr>\n",
       "      <th>1</th>\n",
       "      <td>0</td>\n",
       "      <td>0</td>\n",
       "      <td>0</td>\n",
       "      <td>0</td>\n",
       "      <td>0</td>\n",
       "      <td>0</td>\n",
       "      <td>0</td>\n",
       "      <td>0</td>\n",
       "      <td>0</td>\n",
       "      <td>0</td>\n",
       "      <td>...</td>\n",
       "      <td>0</td>\n",
       "      <td>0</td>\n",
       "      <td>0</td>\n",
       "      <td>0</td>\n",
       "      <td>0</td>\n",
       "      <td>0</td>\n",
       "      <td>0</td>\n",
       "      <td>0</td>\n",
       "      <td>0</td>\n",
       "      <td>0</td>\n",
       "    </tr>\n",
       "    <tr>\n",
       "      <th>2</th>\n",
       "      <td>1</td>\n",
       "      <td>0</td>\n",
       "      <td>0</td>\n",
       "      <td>0</td>\n",
       "      <td>0</td>\n",
       "      <td>0</td>\n",
       "      <td>0</td>\n",
       "      <td>0</td>\n",
       "      <td>0</td>\n",
       "      <td>0</td>\n",
       "      <td>...</td>\n",
       "      <td>0</td>\n",
       "      <td>0</td>\n",
       "      <td>0</td>\n",
       "      <td>0</td>\n",
       "      <td>0</td>\n",
       "      <td>0</td>\n",
       "      <td>0</td>\n",
       "      <td>0</td>\n",
       "      <td>0</td>\n",
       "      <td>0</td>\n",
       "    </tr>\n",
       "    <tr>\n",
       "      <th>3</th>\n",
       "      <td>4</td>\n",
       "      <td>0</td>\n",
       "      <td>0</td>\n",
       "      <td>0</td>\n",
       "      <td>0</td>\n",
       "      <td>0</td>\n",
       "      <td>0</td>\n",
       "      <td>0</td>\n",
       "      <td>0</td>\n",
       "      <td>0</td>\n",
       "      <td>...</td>\n",
       "      <td>0</td>\n",
       "      <td>0</td>\n",
       "      <td>0</td>\n",
       "      <td>0</td>\n",
       "      <td>0</td>\n",
       "      <td>0</td>\n",
       "      <td>0</td>\n",
       "      <td>0</td>\n",
       "      <td>0</td>\n",
       "      <td>0</td>\n",
       "    </tr>\n",
       "    <tr>\n",
       "      <th>4</th>\n",
       "      <td>0</td>\n",
       "      <td>0</td>\n",
       "      <td>0</td>\n",
       "      <td>0</td>\n",
       "      <td>0</td>\n",
       "      <td>0</td>\n",
       "      <td>0</td>\n",
       "      <td>0</td>\n",
       "      <td>0</td>\n",
       "      <td>0</td>\n",
       "      <td>...</td>\n",
       "      <td>0</td>\n",
       "      <td>0</td>\n",
       "      <td>0</td>\n",
       "      <td>0</td>\n",
       "      <td>0</td>\n",
       "      <td>0</td>\n",
       "      <td>0</td>\n",
       "      <td>0</td>\n",
       "      <td>0</td>\n",
       "      <td>0</td>\n",
       "    </tr>\n",
       "  </tbody>\n",
       "</table>\n",
       "<p>5 rows × 785 columns</p>\n",
       "</div>"
      ],
      "text/plain": [
       "   label  pixel0  pixel1  pixel2  pixel3  pixel4  pixel5  pixel6  pixel7  \\\n",
       "0      1       0       0       0       0       0       0       0       0   \n",
       "1      0       0       0       0       0       0       0       0       0   \n",
       "2      1       0       0       0       0       0       0       0       0   \n",
       "3      4       0       0       0       0       0       0       0       0   \n",
       "4      0       0       0       0       0       0       0       0       0   \n",
       "\n",
       "   pixel8  ...  pixel774  pixel775  pixel776  pixel777  pixel778  pixel779  \\\n",
       "0       0  ...         0         0         0         0         0         0   \n",
       "1       0  ...         0         0         0         0         0         0   \n",
       "2       0  ...         0         0         0         0         0         0   \n",
       "3       0  ...         0         0         0         0         0         0   \n",
       "4       0  ...         0         0         0         0         0         0   \n",
       "\n",
       "   pixel780  pixel781  pixel782  pixel783  \n",
       "0         0         0         0         0  \n",
       "1         0         0         0         0  \n",
       "2         0         0         0         0  \n",
       "3         0         0         0         0  \n",
       "4         0         0         0         0  \n",
       "\n",
       "[5 rows x 785 columns]"
      ]
     },
     "execution_count": 50,
     "metadata": {},
     "output_type": "execute_result"
    }
   ],
   "source": [
    "df = pd.read_csv(\"train.csv\")\n",
    "df.head()"
   ]
  },
  {
   "cell_type": "code",
   "execution_count": 59,
   "id": "86ce6e25",
   "metadata": {},
   "outputs": [
    {
     "data": {
      "image/png": "[encoded data removed]",
      "text/plain": [
       "<Figure size 360x360 with 9 Axes>"
      ]
     },
     "metadata": {
      "needs_background": "light"
     },
     "output_type": "display_data"
    }
   ],
   "source": [
    "def exampleplot(pic):\n",
    "    random.seed(99)\n",
    "    n = 0\n",
    "    randomlist = random.sample(range(0, df.shape[0]), 9)\n",
    "    fig, axm = plt.subplots(nrows=3, ncols=3, figsize=(5, 5))\n",
    "    for axs in (axm):\n",
    "        for ax in (axs):\n",
    "#             idx = i * 5 + j\n",
    "            ax.imshow(pic[randomlist[n]], cmap='gray')\n",
    "\n",
    "            n += 1\n",
    "\n",
    "    plt.show()\n",
    "\n",
    "sample = df.iloc[:, 1:].values.reshape(-1, 28, 28)        \n",
    "exampleplot(sample)"
   ]
  },
  {
   "cell_type": "code",
   "execution_count": 38,
   "id": "1417d8fe",
   "metadata": {},
   "outputs": [
    {
     "data": {
      "text/plain": [
       "(42000, 785)"
      ]
     },
     "execution_count": 38,
     "metadata": {},
     "output_type": "execute_result"
    }
   ],
   "source": [
    "df.values.shape"
   ]
  },
  {
   "cell_type": "markdown",
   "id": "8df701e6",
   "metadata": {},
   "source": [
    "### Prepare data"
   ]
  },
  {
   "cell_type": "code",
   "execution_count": 39,
   "id": "0ae03034",
   "metadata": {},
   "outputs": [
    {
     "data": {
      "text/plain": [
       "(42000, 28, 28, 1)"
      ]
     },
     "execution_count": 39,
     "metadata": {},
     "output_type": "execute_result"
    }
   ],
   "source": [
    "img = df.iloc[:, 1:].values.reshape((df.values.shape[0], 28, 28, 1))\n",
    "img = img/255.0\n",
    "img.shape"
   ]
  },
  {
   "cell_type": "code",
   "execution_count": 40,
   "id": "6e05121d",
   "metadata": {},
   "outputs": [
    {
     "data": {
      "text/plain": [
       "(42000, 10)"
      ]
     },
     "execution_count": 40,
     "metadata": {},
     "output_type": "execute_result"
    }
   ],
   "source": [
    "label = to_categorical(df.iloc[:, 0].values)\n",
    "label.shape"
   ]
  },
  {
   "cell_type": "code",
   "execution_count": 41,
   "id": "36b9935c",
   "metadata": {},
   "outputs": [
    {
     "data": {
      "text/plain": [
       "((37800, 28, 28, 1), (4200, 28, 28, 1), (37800, 10), (4200, 10))"
      ]
     },
     "execution_count": 41,
     "metadata": {},
     "output_type": "execute_result"
    }
   ],
   "source": [
    "X_train, X_test, y_train, y_test = train_test_split(img, label, train_size=0.9)\n",
    "X_train.shape, X_test.shape, y_train.shape, y_test.shape"
   ]
  },
  {
   "cell_type": "markdown",
   "id": "9503484d",
   "metadata": {},
   "source": [
    "### Start tranning\n"
   ]
  },
  {
   "cell_type": "code",
   "execution_count": 42,
   "id": "4aa52409",
   "metadata": {},
   "outputs": [],
   "source": [
    "model = tf.keras.models.Sequential([    \n",
    "\n",
    "\n",
    "        tf.keras.layers.Conv2D(32, kernel_size=(3, 3), activation='relu', kernel_initializer='he_normal', input_shape=(28, 28, 1)),\n",
    "#         tf.keras.layers.Flatten(input_shape = (28, 28)),\n",
    "        tf.keras.layers.MaxPool2D((2, 2)),\n",
    "        tf.keras.layers.Dropout(0.20),\n",
    "\n",
    "        tf.keras.layers.Conv2D(64, (3, 3), activation='relu', padding='same', kernel_initializer='he_normal'),\n",
    "        tf.keras.layers.MaxPool2D(pool_size=(2, 2)),\n",
    "        tf.keras.layers.Dropout(0.25),\n",
    "\n",
    "\n",
    "    \n",
    "        tf.keras.layers.Conv2D(128, (3, 3), activation='relu', padding='same', kernel_initializer='he_normal'),\n",
    "        tf.keras.layers.Dropout(0.25),\n",
    "        tf.keras.layers.Flatten(),\n",
    "\n",
    "        tf.keras.layers.Dense(128, activation='relu'),\n",
    "        tf.keras.layers.BatchNormalization(),\n",
    "        tf.keras.layers.Dropout(0.25),\n",
    "        tf.keras.layers.Dense(10, activation='softmax')\n",
    "    \n",
    "    \n",
    "])\n",
    "model.compile(optimizer='adam',\n",
    "              loss='categorical_crossentropy', \n",
    "#               loss = 'sparse_categorical_crossentropy',\n",
    "              metrics=['accuracy'])"
   ]
  },
  {
   "cell_type": "code",
   "execution_count": 43,
   "id": "a3566e24",
   "metadata": {
    "scrolled": true
   },
   "outputs": [
    {
     "name": "stdout",
     "output_type": "stream",
     "text": [
      "Model: \"sequential_4\"\n",
      "_________________________________________________________________\n",
      "Layer (type)                 Output Shape              Param #   \n",
      "=================================================================\n",
      "conv2d_15 (Conv2D)           (None, 26, 26, 32)        320       \n",
      "_________________________________________________________________\n",
      "max_pooling2d_8 (MaxPooling2 (None, 13, 13, 32)        0         \n",
      "_________________________________________________________________\n",
      "dropout_19 (Dropout)         (None, 13, 13, 32)        0         \n",
      "_________________________________________________________________\n",
      "conv2d_16 (Conv2D)           (None, 13, 13, 64)        18496     \n",
      "_________________________________________________________________\n",
      "max_pooling2d_9 (MaxPooling2 (None, 6, 6, 64)          0         \n",
      "_________________________________________________________________\n",
      "dropout_20 (Dropout)         (None, 6, 6, 64)          0         \n",
      "_________________________________________________________________\n",
      "conv2d_17 (Conv2D)           (None, 6, 6, 128)         73856     \n",
      "_________________________________________________________________\n",
      "dropout_21 (Dropout)         (None, 6, 6, 128)         0         \n",
      "_________________________________________________________________\n",
      "conv2d_18 (Conv2D)           (None, 6, 6, 128)         147584    \n",
      "_________________________________________________________________\n",
      "dropout_22 (Dropout)         (None, 6, 6, 128)         0         \n",
      "_________________________________________________________________\n",
      "flatten_5 (Flatten)          (None, 4608)              0         \n",
      "_________________________________________________________________\n",
      "dense_8 (Dense)              (None, 512)               2359808   \n",
      "_________________________________________________________________\n",
      "batch_normalization_4 (Batch (None, 512)               2048      \n",
      "_________________________________________________________________\n",
      "dropout_23 (Dropout)         (None, 512)               0         \n",
      "_________________________________________________________________\n",
      "dense_9 (Dense)              (None, 10)                5130      \n",
      "=================================================================\n",
      "Total params: 2,607,242\n",
      "Trainable params: 2,606,218\n",
      "Non-trainable params: 1,024\n",
      "_________________________________________________________________\n"
     ]
    }
   ],
   "source": [
    "model.summary()"
   ]
  },
  {
   "cell_type": "code",
   "execution_count": 44,
   "id": "fa9dc0bd",
   "metadata": {},
   "outputs": [],
   "source": [
    "data_train = ImageDataGenerator(\n",
    "    rotation_range = 8,\n",
    "    zoom_range=0.1\n",
    ")\n",
    "train_gen = data_train.flow(X_train, y_train, batch_size = 64, shuffle = True)"
   ]
  },
  {
   "cell_type": "code",
   "execution_count": 45,
   "id": "5df8bb6e",
   "metadata": {
    "scrolled": true
   },
   "outputs": [
    {
     "name": "stdout",
     "output_type": "stream",
     "text": [
      "Epoch 1/55\n",
      "591/591 [==============================] - 7s 10ms/step - loss: 0.3102 - accuracy: 0.9013 - val_loss: 0.0725 - val_accuracy: 0.9748\n",
      "Epoch 2/55\n",
      "591/591 [==============================] - 6s 10ms/step - loss: 0.1043 - accuracy: 0.9673 - val_loss: 0.0486 - val_accuracy: 0.9843\n",
      "Epoch 3/55\n",
      "591/591 [==============================] - 6s 10ms/step - loss: 0.0773 - accuracy: 0.9753 - val_loss: 0.0385 - val_accuracy: 0.9855\n",
      "Epoch 4/55\n",
      "591/591 [==============================] - 6s 10ms/step - loss: 0.0651 - accuracy: 0.9796 - val_loss: 0.0337 - val_accuracy: 0.9893\n",
      "Epoch 5/55\n",
      "591/591 [==============================] - 6s 10ms/step - loss: 0.0574 - accuracy: 0.9820 - val_loss: 0.0424 - val_accuracy: 0.9860\n",
      "Epoch 6/55\n",
      "591/591 [==============================] - 6s 11ms/step - loss: 0.0518 - accuracy: 0.9840 - val_loss: 0.0462 - val_accuracy: 0.9871\n",
      "Epoch 7/55\n",
      "591/591 [==============================] - 7s 11ms/step - loss: 0.0454 - accuracy: 0.9862 - val_loss: 0.0301 - val_accuracy: 0.9893\n",
      "Epoch 8/55\n",
      "591/591 [==============================] - 7s 12ms/step - loss: 0.0434 - accuracy: 0.9860 - val_loss: 0.0300 - val_accuracy: 0.9898\n",
      "Epoch 9/55\n",
      "591/591 [==============================] - 7s 11ms/step - loss: 0.0423 - accuracy: 0.9864 - val_loss: 0.0262 - val_accuracy: 0.9924\n",
      "Epoch 10/55\n",
      "591/591 [==============================] - 6s 11ms/step - loss: 0.0396 - accuracy: 0.9880 - val_loss: 0.0211 - val_accuracy: 0.9931\n",
      "Epoch 11/55\n",
      "591/591 [==============================] - 7s 11ms/step - loss: 0.0355 - accuracy: 0.9889 - val_loss: 0.0248 - val_accuracy: 0.9919\n",
      "Epoch 12/55\n",
      "591/591 [==============================] - 7s 11ms/step - loss: 0.0317 - accuracy: 0.9897 - val_loss: 0.0248 - val_accuracy: 0.9929\n",
      "Epoch 13/55\n",
      "591/591 [==============================] - 7s 11ms/step - loss: 0.0311 - accuracy: 0.9903 - val_loss: 0.0267 - val_accuracy: 0.9924\n",
      "Epoch 14/55\n",
      "591/591 [==============================] - 7s 11ms/step - loss: 0.0327 - accuracy: 0.9896 - val_loss: 0.0200 - val_accuracy: 0.9938\n",
      "Epoch 15/55\n",
      "591/591 [==============================] - 7s 11ms/step - loss: 0.0292 - accuracy: 0.9906 - val_loss: 0.0250 - val_accuracy: 0.9931\n",
      "Epoch 16/55\n",
      "591/591 [==============================] - 7s 11ms/step - loss: 0.0274 - accuracy: 0.9912 - val_loss: 0.0253 - val_accuracy: 0.9931\n",
      "Epoch 17/55\n",
      "591/591 [==============================] - 6s 11ms/step - loss: 0.0262 - accuracy: 0.9915 - val_loss: 0.0302 - val_accuracy: 0.9926\n",
      "Epoch 18/55\n",
      "591/591 [==============================] - 7s 11ms/step - loss: 0.0275 - accuracy: 0.9918 - val_loss: 0.0354 - val_accuracy: 0.9907\n",
      "Epoch 19/55\n",
      "591/591 [==============================] - 7s 11ms/step - loss: 0.0244 - accuracy: 0.9925 - val_loss: 0.0236 - val_accuracy: 0.9938\n",
      "Epoch 20/55\n",
      "591/591 [==============================] - 7s 12ms/step - loss: 0.0237 - accuracy: 0.9922 - val_loss: 0.0253 - val_accuracy: 0.9931\n",
      "Epoch 21/55\n",
      "591/591 [==============================] - 7s 11ms/step - loss: 0.0221 - accuracy: 0.9927 - val_loss: 0.0287 - val_accuracy: 0.9940\n",
      "Epoch 22/55\n",
      "591/591 [==============================] - 6s 11ms/step - loss: 0.0206 - accuracy: 0.9931 - val_loss: 0.0292 - val_accuracy: 0.9917\n",
      "Epoch 23/55\n",
      "591/591 [==============================] - 6s 11ms/step - loss: 0.0216 - accuracy: 0.9937 - val_loss: 0.0228 - val_accuracy: 0.9938\n",
      "Epoch 24/55\n",
      "591/591 [==============================] - 6s 11ms/step - loss: 0.0202 - accuracy: 0.9933 - val_loss: 0.0288 - val_accuracy: 0.9933\n",
      "Epoch 25/55\n",
      "591/591 [==============================] - 7s 11ms/step - loss: 0.0204 - accuracy: 0.9930 - val_loss: 0.0232 - val_accuracy: 0.9936\n",
      "Epoch 26/55\n",
      "591/591 [==============================] - 6s 11ms/step - loss: 0.0192 - accuracy: 0.9933 - val_loss: 0.0261 - val_accuracy: 0.9921\n",
      "Epoch 27/55\n",
      "591/591 [==============================] - 7s 11ms/step - loss: 0.0213 - accuracy: 0.9934 - val_loss: 0.0220 - val_accuracy: 0.9938\n",
      "Epoch 28/55\n",
      "591/591 [==============================] - 6s 11ms/step - loss: 0.0175 - accuracy: 0.9940 - val_loss: 0.0221 - val_accuracy: 0.9938\n",
      "Epoch 29/55\n",
      "591/591 [==============================] - 6s 11ms/step - loss: 0.0175 - accuracy: 0.9942 - val_loss: 0.0276 - val_accuracy: 0.9931\n",
      "Epoch 30/55\n",
      "591/591 [==============================] - 7s 11ms/step - loss: 0.0164 - accuracy: 0.9949 - val_loss: 0.0252 - val_accuracy: 0.9938\n",
      "Epoch 31/55\n",
      "591/591 [==============================] - 7s 11ms/step - loss: 0.0142 - accuracy: 0.9953 - val_loss: 0.0270 - val_accuracy: 0.9931\n",
      "Epoch 32/55\n",
      "591/591 [==============================] - 7s 12ms/step - loss: 0.0154 - accuracy: 0.9953 - val_loss: 0.0244 - val_accuracy: 0.9938\n",
      "Epoch 33/55\n",
      "591/591 [==============================] - 7s 11ms/step - loss: 0.0159 - accuracy: 0.9947 - val_loss: 0.0257 - val_accuracy: 0.9945\n",
      "Epoch 34/55\n",
      "591/591 [==============================] - 7s 11ms/step - loss: 0.0158 - accuracy: 0.9948 - val_loss: 0.0292 - val_accuracy: 0.9936\n",
      "Epoch 35/55\n",
      "591/591 [==============================] - 6s 11ms/step - loss: 0.0160 - accuracy: 0.9949 - val_loss: 0.0236 - val_accuracy: 0.9948\n",
      "Epoch 36/55\n",
      "591/591 [==============================] - 6s 11ms/step - loss: 0.0176 - accuracy: 0.9945 - val_loss: 0.0229 - val_accuracy: 0.9940\n",
      "Epoch 37/55\n",
      "591/591 [==============================] - 6s 11ms/step - loss: 0.0142 - accuracy: 0.9958 - val_loss: 0.0247 - val_accuracy: 0.9943\n",
      "Epoch 38/55\n",
      "591/591 [==============================] - 7s 11ms/step - loss: 0.0112 - accuracy: 0.9965 - val_loss: 0.0256 - val_accuracy: 0.9948\n",
      "Epoch 39/55\n",
      "591/591 [==============================] - 7s 11ms/step - loss: 0.0123 - accuracy: 0.9961 - val_loss: 0.0266 - val_accuracy: 0.9936\n",
      "Epoch 40/55\n",
      "591/591 [==============================] - 7s 12ms/step - loss: 0.0123 - accuracy: 0.9960 - val_loss: 0.0276 - val_accuracy: 0.9933\n",
      "Epoch 41/55\n",
      "591/591 [==============================] - 7s 12ms/step - loss: 0.0126 - accuracy: 0.9959 - val_loss: 0.0310 - val_accuracy: 0.9940\n",
      "Epoch 42/55\n",
      "591/591 [==============================] - 7s 11ms/step - loss: 0.0120 - accuracy: 0.9961 - val_loss: 0.0263 - val_accuracy: 0.9933\n",
      "Epoch 43/55\n",
      "591/591 [==============================] - 7s 11ms/step - loss: 0.0148 - accuracy: 0.9950 - val_loss: 0.0246 - val_accuracy: 0.9943\n",
      "Epoch 44/55\n",
      "591/591 [==============================] - 7s 11ms/step - loss: 0.0117 - accuracy: 0.9965 - val_loss: 0.0312 - val_accuracy: 0.9938\n",
      "Epoch 45/55\n",
      "591/591 [==============================] - 7s 12ms/step - loss: 0.0135 - accuracy: 0.9954 - val_loss: 0.0286 - val_accuracy: 0.9931\n",
      "Epoch 46/55\n",
      "591/591 [==============================] - 7s 11ms/step - loss: 0.0117 - accuracy: 0.9961 - val_loss: 0.0240 - val_accuracy: 0.9936\n",
      "Epoch 47/55\n",
      "591/591 [==============================] - 7s 11ms/step - loss: 0.0098 - accuracy: 0.9967 - val_loss: 0.0220 - val_accuracy: 0.9940\n",
      "Epoch 48/55\n",
      "591/591 [==============================] - 7s 11ms/step - loss: 0.0131 - accuracy: 0.9960 - val_loss: 0.0304 - val_accuracy: 0.9929\n",
      "Epoch 49/55\n",
      "591/591 [==============================] - 7s 11ms/step - loss: 0.0148 - accuracy: 0.9953 - val_loss: 0.0249 - val_accuracy: 0.9948\n",
      "Epoch 50/55\n",
      "591/591 [==============================] - 7s 11ms/step - loss: 0.0113 - accuracy: 0.9964 - val_loss: 0.0186 - val_accuracy: 0.9952\n",
      "Epoch 51/55\n",
      "591/591 [==============================] - 7s 11ms/step - loss: 0.0085 - accuracy: 0.9973 - val_loss: 0.0254 - val_accuracy: 0.9948\n",
      "Epoch 52/55\n",
      "591/591 [==============================] - 7s 11ms/step - loss: 0.0106 - accuracy: 0.9966 - val_loss: 0.0241 - val_accuracy: 0.9955\n",
      "Epoch 53/55\n",
      "591/591 [==============================] - 6s 11ms/step - loss: 0.0110 - accuracy: 0.9967 - val_loss: 0.0252 - val_accuracy: 0.9945\n",
      "Epoch 54/55\n",
      "591/591 [==============================] - 7s 11ms/step - loss: 0.0116 - accuracy: 0.9966 - val_loss: 0.0285 - val_accuracy: 0.9938\n",
      "Epoch 55/55\n",
      "591/591 [==============================] - 7s 11ms/step - loss: 0.0102 - accuracy: 0.9967 - val_loss: 0.0231 - val_accuracy: 0.9945\n"
     ]
    }
   ],
   "source": [
    "# history = model.fit(train_gen, epochs=20, validation_data=(X_test, y_test))\n",
    "history = model.fit(train_gen, epochs=55, validation_data=(X_test, y_test))"
   ]
  },
  {
   "cell_type": "markdown",
   "id": "e30aff1b",
   "metadata": {},
   "source": [
    "### loard result"
   ]
  },
  {
   "cell_type": "code",
   "execution_count": 46,
   "id": "1afeb643",
   "metadata": {},
   "outputs": [],
   "source": [
    "def plot_history(history):    \n",
    "    \n",
    "    acc = history.history['accuracy']\n",
    "    val_acc = history.history['val_accuracy']\n",
    "    loss = history.history['loss']\n",
    "    val_loss = history.history['val_loss']\n",
    "    x = range(1, len(acc) + 1)\n",
    "\n",
    "    plt.figure(figsize=(12, 5))\n",
    "    plt.subplot(1, 2, 1)\n",
    "    plt.plot(x, acc)\n",
    "    plt.plot(x, val_acc)\n",
    "    plt.title('Accuracy vs. No. of epochs')\n",
    "    plt.ylabel('Accuracy')\n",
    "    plt.xlabel('Epoch')\n",
    "    plt.legend(['train', 'valid'], loc='upper left')\n",
    "\n",
    "    plt.subplot(1, 2, 2)\n",
    "    plt.plot(x, loss)\n",
    "    plt.plot(x, val_loss)\n",
    "    plt.title('Loss vs. No. of epochs')\n",
    "    plt.ylabel('Loss')\n",
    "    plt.xlabel('Epoch')\n",
    "    plt.legend(['train', 'valid'], loc='upper right')\n",
    "    plt.show()"
   ]
  },
  {
   "cell_type": "code",
   "execution_count": 47,
   "id": "79162ef0",
   "metadata": {},
   "outputs": [
    {
     "data": {
      "image/png": "[encoded data removed]",
      "text/plain": [
       "<Figure size 864x360 with 2 Axes>"
      ]
     },
     "metadata": {
      "needs_background": "light"
     },
     "output_type": "display_data"
    }
   ],
   "source": [
    "plot_history(history)"
   ]
  },
  {
   "cell_type": "code",
   "execution_count": 48,
   "id": "a91c9fbb",
   "metadata": {},
   "outputs": [
    {
     "name": "stdout",
     "output_type": "stream",
     "text": [
      "Test Loss: 0.02311\n",
      "Test Accuracy: 99.45%\n"
     ]
    }
   ],
   "source": [
    "results = model.evaluate(X_test, y_test, verbose=0)\n",
    "print('Test Loss: {:.5f}'.format(results[0]))\n",
    "print('Test Accuracy: {:.2f}%'.format(results[1] * 100))"
   ]
  },
  {
   "cell_type": "code",
   "execution_count": 29,
   "id": "99d25314",
   "metadata": {},
   "outputs": [],
   "source": [
    "# model.save(\"Digit_Recongnizer_model1_temp4_rotate.h5\")"
   ]
  },
  {
   "cell_type": "code",
   "execution_count": 18,
   "id": "6826d62d",
   "metadata": {},
   "outputs": [],
   "source": [
    "# m1 = tf.keras.models.load_model(\"Digit_Recongnizer_model1_temp1.h5\")"
   ]
  },
  {
   "cell_type": "markdown",
   "id": "57fc12fc",
   "metadata": {},
   "source": [
    "### Predict"
   ]
  },
  {
   "cell_type": "code",
   "execution_count": 19,
   "id": "9c00df64",
   "metadata": {},
   "outputs": [],
   "source": [
    "df = pd.read_csv(\"test.csv\")"
   ]
  },
  {
   "cell_type": "code",
   "execution_count": 20,
   "id": "382c4eea",
   "metadata": {},
   "outputs": [
    {
     "data": {
      "text/plain": [
       "<matplotlib.image.AxesImage at 0x278e4116ac0>"
      ]
     },
     "execution_count": 20,
     "metadata": {},
     "output_type": "execute_result"
    },
    {
     "data": {
      "image/png": "[encoded data removed]",
      "text/plain": [
       "<Figure size 432x288 with 1 Axes>"
      ]
     },
     "metadata": {
      "needs_background": "light"
     },
     "output_type": "display_data"
    }
   ],
   "source": [
    "plt.imshow(df.iloc[1, :].values.reshape((28,28)))"
   ]
  },
  {
   "cell_type": "code",
   "execution_count": 21,
   "id": "6a3e4a0d",
   "metadata": {},
   "outputs": [],
   "source": [
    "pre = df.iloc[:,:].values.reshape((df.values.shape[0], 28, 28, 1))\n",
    "pre = pre/255.0"
   ]
  },
  {
   "cell_type": "code",
   "execution_count": 22,
   "id": "b49b9eaf",
   "metadata": {},
   "outputs": [],
   "source": [
    "result = model.predict(pre)"
   ]
  },
  {
   "cell_type": "code",
   "execution_count": 23,
   "id": "e3c63487",
   "metadata": {},
   "outputs": [],
   "source": [
    "digit = np.argmax(result)"
   ]
  },
  {
   "cell_type": "code",
   "execution_count": 24,
   "id": "7b202b09",
   "metadata": {},
   "outputs": [
    {
     "name": "stdout",
     "output_type": "stream",
     "text": [
      "2\n"
     ]
    }
   ],
   "source": [
    "print(digit)"
   ]
  },
  {
   "cell_type": "code",
   "execution_count": 25,
   "id": "cfc78fc0",
   "metadata": {},
   "outputs": [],
   "source": [
    "ImageId = list()\n",
    "Label = list()\n",
    "for i in range(result.shape[0]):\n",
    "    ImageId.append(i + 1)\n",
    "    Label.append(np.argmax(result[i]))"
   ]
  },
  {
   "cell_type": "code",
   "execution_count": 27,
   "id": "ea9604ef",
   "metadata": {},
   "outputs": [],
   "source": [
    "dic = dict()\n",
    "dic[\"ImageId\"] = ImageId\n",
    "dic[\"Label\"] = Label\n",
    "output = pd.DataFrame(dic)"
   ]
  },
  {
   "cell_type": "code",
   "execution_count": 28,
   "id": "795739bd",
   "metadata": {},
   "outputs": [],
   "source": [
    "output.to_csv(\"submission4.csv\")"
   ]
  },
  {
   "cell_type": "code",
   "execution_count": null,
   "id": "cc37cd28",
   "metadata": {},
   "outputs": [],
   "source": []
  }
 ],
 "metadata": {
  "kernelspec": {
   "display_name": "Python 3",
   "language": "python",
   "name": "python3"
  },
  "language_info": {
   "codemirror_mode": {
    "name": "ipython",
    "version": 3
   },
   "file_extension": ".py",
   "mimetype": "text/x-python",
   "name": "python",
   "nbconvert_exporter": "python",
   "pygments_lexer": "ipython3",
   "version": "3.9.5"
  }
 },
 "nbformat": 4,
 "nbformat_minor": 5
}
